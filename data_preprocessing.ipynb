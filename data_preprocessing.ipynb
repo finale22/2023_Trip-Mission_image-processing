{
 "cells": [
  {
   "cell_type": "code",
   "execution_count": 41,
   "id": "357d0b68",
   "metadata": {},
   "outputs": [
    {
     "name": "stdout",
     "output_type": "stream",
     "text": [
      "폴더 1 탐색...\n",
      "이전 데이터 개수: 4222\n",
      "처리 후 데이터 개수: 1036 \n",
      "\n",
      "폴더 2 탐색...\n",
      "최소 클래스: 1036 \n",
      "\n",
      "폴더 3 탐색...\n",
      "이전 데이터 개수: 1448\n",
      "처리 후 데이터 개수: 1036 \n",
      "\n",
      "폴더 4 탐색...\n",
      "이전 데이터 개수: 1318\n",
      "처리 후 데이터 개수: 1036 \n",
      "\n",
      "폴더 5 탐색...\n",
      "이전 데이터 개수: 4652\n",
      "처리 후 데이터 개수: 1036 \n",
      "\n",
      "폴더 6 탐색...\n",
      "이전 데이터 개수: 2514\n",
      "처리 후 데이터 개수: 1036 \n",
      "\n",
      "폴더 7 탐색...\n",
      "이전 데이터 개수: 6242\n",
      "처리 후 데이터 개수: 1036 \n",
      "\n",
      "폴더 8 탐색...\n",
      "이전 데이터 개수: 1604\n",
      "처리 후 데이터 개수: 1036 \n",
      "\n",
      "폴더 9 탐색...\n",
      "이전 데이터 개수: 2956\n",
      "처리 후 데이터 개수: 1036 \n",
      "\n"
     ]
    }
   ],
   "source": [
    "import glob\n",
    "import random\n",
    "import os\n",
    "\n",
    "# 폴더 경로 지정\n",
    "folder_path = 'train_resize/'\n",
    "\n",
    "# class 개수 세기\n",
    "folder_counts = len(glob.glob(folder_path + '*'))\n",
    "\n",
    "# 각 class 별 데이터 개수 세기\n",
    "images_counts = []\n",
    "for i in range(1, folder_counts + 1):\n",
    "    images_counts.append(len(glob.glob(folder_path + str(i) + '/*.jpg')))\n",
    "min_images_counts = min(images_counts) # class 최소 데이터 개수\n",
    "\n",
    "# 각 class 별 데이터를 최소 데이터 개수만큼 맞추기 (random으로 뽑기)\n",
    "for i in range(1, folder_counts + 1):\n",
    "    print('폴더', str(i),'탐색...')\n",
    "    image_path = folder_path + str(i) + '/'\n",
    "    images = glob.glob(image_path + '*.jpg')\n",
    "    if len(images) == min_images_counts:\n",
    "        print('최소 클래스:', len(images), '\\n')\n",
    "        continue\n",
    "    print('이전 데이터 개수:', len(images))\n",
    "    diff = len(images) - min_images_counts\n",
    "    del_images = random.sample(images, diff) # 삭제할 이미지 랜덤 추출\n",
    "    for fname in del_images:\n",
    "        os.remove(fname)\n",
    "    print('처리 후 데이터 개수:', len(glob.glob(image_path + '*.jpg')), '\\n')"
   ]
  }
 ],
 "metadata": {
  "kernelspec": {
   "display_name": "Python 3 (ipykernel)",
   "language": "python",
   "name": "python3"
  },
  "language_info": {
   "codemirror_mode": {
    "name": "ipython",
    "version": 3
   },
   "file_extension": ".py",
   "mimetype": "text/x-python",
   "name": "python",
   "nbconvert_exporter": "python",
   "pygments_lexer": "ipython3",
   "version": "3.11.3"
  }
 },
 "nbformat": 4,
 "nbformat_minor": 5
}
